{
 "cells": [
  {
   "cell_type": "markdown",
   "id": "77c6614e",
   "metadata": {},
   "source": [
    "<div align=\"right\"> <h1 align=\"right\">Anhang 3</h1></div>"
   ]
  },
  {
   "cell_type": "markdown",
   "id": "e32448ed",
   "metadata": {},
   "source": [
    "<div align=\"center\"> <h1 align=\"center\">Erstellung eines Netzwerkgraphen aus Personendaten der Hamburg-<br/>Bibliographie mit der Python-Bibliothek Pyvis.</h1></div>"
   ]
  },
  {
   "cell_type": "markdown",
   "id": "44a68694",
   "metadata": {},
   "source": [
    "<br/>"
   ]
  },
  {
   "cell_type": "markdown",
   "id": "f1770dc8",
   "metadata": {},
   "source": [
    "<div align=\"left\"> <h2 align=\"left\">A. Der Weg von der Ausgangsdatei zur json-Datei für die Nutzung in Pyvis.</h2></div>"
   ]
  },
  {
   "cell_type": "markdown",
   "id": "bfb90b59",
   "metadata": {},
   "source": [
    "Dieses Skript ist im Zusammenhang mit der Ausarbeitung für dieses Projekt zu lesen, Angaben zu Datenstruktur der Ausgangsdatei sowie Transformationsanforderungen im allgemeinen finden sich auch dort im Text und in den Anhängen."
   ]
  },
  {
   "cell_type": "markdown",
   "id": "5918a662",
   "metadata": {},
   "source": [
    "### 1. Importieren der nötigen Bibliotheken¶"
   ]
  },
  {
   "cell_type": "code",
   "execution_count": 1,
   "id": "36ead417",
   "metadata": {},
   "outputs": [],
   "source": [
    "from pyvis.network import Network\n",
    "import random\n",
    "import json"
   ]
  },
  {
   "cell_type": "markdown",
   "id": "0d11151f",
   "metadata": {},
   "source": [
    "### 2. Aufrufen der gelieferten Ausgangsdatei"
   ]
  },
  {
   "cell_type": "code",
   "execution_count": 2,
   "id": "44241732",
   "metadata": {},
   "outputs": [],
   "source": [
    "with open (\"hhb_td_2022-01-19.pp\", \"r+\", encoding = \"utf-8\") as infile:\n",
    "    file = infile.readlines()"
   ]
  },
  {
   "cell_type": "markdown",
   "id": "870b6515",
   "metadata": {},
   "source": [
    "### 3. Wandlung der Lines in einzelne Dictionaries, Teilung der Lines in Keys und Values\n",
    "Die einzelnen Zeilen der Ausgangsdatei teilen sich in Feldbezeichnung und Inhalt, die Feldbezeichnung ist durch ein Leerzeichen von dem Inhalt des Feldes getrennt. Diese Struktur kann dazu genutzt werden, eine Liste \"entries\" mit Key-Value-Paaren als Dictionaries für jede Zeile herzustellen. Dabei wird die Feldbenennung zum Key, der Feldinhalt zum Value der Dictionaries. Entstehen wird die Liste von Dictionaries \"entries\"."
   ]
  },
  {
   "cell_type": "code",
   "execution_count": 3,
   "id": "d6c9059a",
   "metadata": {},
   "outputs": [],
   "source": [
    "entries = []\n",
    "    \n",
    "for line in file:\n",
    "    \n",
    "    # Das \"*\" vermeidet einen ValueError bei der Übertragung der Strings in eine Liste beim Splitten\n",
    "    dict_line = {}\n",
    "    key, *value = line.strip().replace(\"\\x1f\", \" \").split(\" \", 1)\n",
    "    dict_line[key] = value\n",
    "    \n",
    "    entries.append(dict_line)"
   ]
  },
  {
   "cell_type": "markdown",
   "id": "0d269ff6",
   "metadata": {},
   "source": [
    "### 4. Gesammelte Bearbeitung der Values von Key \"041R\" \n",
    "Die Entscheidung, den Beginn der Values der Keys \"041R\" an dieser Stelle schon endzubearbeiten, hat praktische Gründe: Die Values der Keys \"041R\" enthalten Daten, die später bei Erstellung des Graphen mit dem Value von Key \"041A\" (Person des Datensatzes) relationiert werden müssen. Sie sind in den Originaldaten mehrfach vorhanden mit unterschiedlichen Value-Inhalten, die erhalten bleiben müssen (vgl. Anhang 1). Für die Zusammenfassung zu Dictionaries müssen sie individualisiert werden, damit sie nicht überschrieben werden. Um eine spätere Einzelbehandlung der dann individualisierten Keys zu vermeiden und diese in einem Rutsch zu erledigen, geschieht dies an dieser Stelle vor der Individualisierung. Die gleiche Datenstruktur der Values begünstigt dies. Das Strippen bzw. Replacen des Beginns der Values wird von links bis zum Subfield des Inhaltes durchgeführt. Restlich zu löschende Codierungen rechts vom Inhalt werden in späteren Arbeitschritten erledigt, die Codierungen werden noch als Anker zum Vereinigen der Inhalte benötigt."
   ]
  },
  {
   "cell_type": "code",
   "execution_count": 4,
   "id": "fb941819",
   "metadata": {},
   "outputs": [],
   "source": [
    "for item in entries:\n",
    "    for key in item:\n",
    "        item[key] = str(item[key]).strip(\"[' \").strip(\"']\").strip(\"\\\\\").replace(\"\\\"\", \"'\")\n",
    "        \n",
    "        if \"041R\" in item:\n",
    "            item[key] = item[key].lstrip(\n",
    "                \"[0123456789]X\").lstrip().lstrip(\n",
    "                \"VTdv\").lstrip().lstrip(\n",
    "                \"6gnd\\/[0123456789]-[0123456789]X\").lstrip().lstrip(\n",
    "                \"S[pkcsgtfz]\").lstrip().replace(\"a\", \"\", 1)"
   ]
  },
  {
   "cell_type": "markdown",
   "id": "6cd5c861",
   "metadata": {},
   "source": [
    "### 5. Individualisierung gleichnamiger Keys I: \n",
    "Umbenennung der verschiedenen Keys des Feldes \"041R\" und der Keys \"060R\", die mehrfach vorkommen können, anhand der Codierungen in den Inhalten ihrer Values. Die Codierungen, die den Inhalt definieren, werden als Keyergänzung angehängt:\n",
    "\n",
    "    Key \"041R\": \"4beru\" = Berufsangaben\n",
    "                \"4bezf\" = familiäre Beziehung\n",
    "                \"4bezb\" = berufliche Beziehung\n",
    "                \"4ort\"  = Geburts-/Sterbeort\n",
    "                \"4affi\" = institutionelle Affiliation/Zugehörigkeit\n",
    "    Key \"060R\": \"4datl\" = Lebensdaten\n",
    "                \"4datx\" = exakte Lebensdaten\n"
   ]
  },
  {
   "cell_type": "code",
   "execution_count": 5,
   "id": "b87aefa8",
   "metadata": {},
   "outputs": [],
   "source": [
    "for item in entries:\n",
    "    for key, value in list(item.items()):\n",
    "        \n",
    "        if \"041R\" == key:\n",
    "            if \"4beru\" in value:\n",
    "                item[\"041R_beru\"] = item.pop(\"041R\")    \n",
    "                \n",
    "            if \"4bezf\" in value:\n",
    "                item[\"041R_bezf\"] = item.pop(\"041R\") \n",
    "                \n",
    "            if \"4bezb\" in value:\n",
    "                item[\"041R_bezb\"] = item.pop(\"041R\") \n",
    "                \n",
    "            if \"4ort\" in value:\n",
    "                item[\"041R_ort\"] = item.pop(\"041R\") \n",
    "        \n",
    "            if \"4affi\" in value:\n",
    "                item[\"041R_affi\"] = item.pop(\"041R\")        \n",
    "                \n",
    "        if \"060R\" == key:                             \n",
    "            if \"4datl\" in value:\n",
    "                item[\"060R_datl\"] = item.pop(\"060R\")\n",
    "                             \n",
    "            if \"4datx\" in value:\n",
    "                item[\"060R_datx\"] = item.pop(\"060R\")"
   ]
  },
  {
   "cell_type": "markdown",
   "id": "b90ff921",
   "metadata": {},
   "source": [
    "### 6. Individualisierung gleichnamiger Keys II\n",
    "Nach dem ersten Individualisierungsschritt für die Keys \"041R\" und \"060R\" braucht es einen zweiten, denn noch ist nicht vermieden, dass Keys doppelt vorhanden sind. Dazu erhalten die gefährdeten Keys einen durchlaufenden Nummernzusatz und werden so individualisiert."
   ]
  },
  {
   "cell_type": "code",
   "execution_count": 6,
   "id": "1e82eba7",
   "metadata": {},
   "outputs": [],
   "source": [
    "i=0\n",
    "\n",
    "for item in entries:\n",
    "    \n",
    "    if \"041R_beru\" in item:\n",
    "        item[str(\"041R_beru-\" + str(i))] = item.pop(\"041R_beru\")\n",
    "              \n",
    "    if \"041R_bezf\" in item:\n",
    "        item[str(\"041R_bezf-\" + str(i))] = item.pop(\"041R_bezf\")\n",
    "        \n",
    "    if \"041R_bezb\" in item:\n",
    "        item[str(\"041R_bezb-\" + str(i))] = item.pop(\"041R_bezb\")\n",
    "        \n",
    "    if \"041R_ort\" in item:\n",
    "        item[str(\"041R_ort-\" + str(i))] = item.pop(\"041R_ort\")\n",
    "        \n",
    "    if \"041R_affi\" in item:\n",
    "        item[str(\"041R_affi-\" + str(i))] = item.pop(\"041R_affi\")\n",
    "  \n",
    "    i=i+1    "
   ]
  },
  {
   "cell_type": "markdown",
   "id": "87437862",
   "metadata": {},
   "source": [
    "### 7. Zusammenfassung der zu einem Personendatensatz gehörigen Einzel-Dictionaries zu gruppierten Dictionaries\n",
    "Die einzelnen Zeilen-Dictionaries werden nun zu gruppierten Items einer List of Dictionaries transformiert, bei der nicht mehr jedes Item einer Zeile der Ausgangsdatei entspricht, sondern dem Datensatz einer Person. Dabei dient das Feld \"001A\" als Anker, dessen Dictionary anzeigt, dass die folgenden Dictionaries, bis zum zum nächsten Vorkommnis des Feldes \"001A\" zu einem Personendatensatz gehören. Entstehen wird neu die Liste mit Dictionaries \"grouped_dicts\"."
   ]
  },
  {
   "cell_type": "code",
   "execution_count": 7,
   "id": "58993eb0",
   "metadata": {},
   "outputs": [],
   "source": [
    "grouped_dicts = []\n",
    "current_entry = {}\n",
    "    \n",
    "for item in entries:    \n",
    "    if \"001A\" in item:\n",
    "        \n",
    "        # erzeugt ein Dictionary für die Keys eines jeden Datensatzes, wenn das if-Statement wahr ist   \n",
    "        current_entry = {} \n",
    "        \n",
    "        # fügt das dict \"current_entry\" in die Liste \"grouped_dicts\" an\n",
    "        grouped_dicts.append(current_entry)\n",
    "    \n",
    "    # liest die Einzeldictionaries aus \"entries\" nach \"current_entry\" in \"grouped_dicts\"\n",
    "    current_entry.update(item)             "
   ]
  },
  {
   "cell_type": "code",
   "execution_count": 8,
   "id": "cf6c5b85",
   "metadata": {},
   "outputs": [
    {
     "data": {
      "text/plain": [
       "72125"
      ]
     },
     "execution_count": 8,
     "metadata": {},
     "output_type": "execute_result"
    }
   ],
   "source": [
    "# Zählung Gesamtmenge der Datensätze der Ausgangdatei\n",
    "count_items = 0\n",
    "for item in grouped_dicts:\n",
    "    if \"003@\" in item.keys():\n",
    "        count_items += 1\n",
    "count_items        "
   ]
  },
  {
   "cell_type": "markdown",
   "id": "b8c9042a",
   "metadata": {},
   "source": [
    "### 8. Vereinigung zusammengehöriger Values unter einen Key\n",
    "Durch das Individualisieren der gleichnamigen Keys wurden deren Values gesichert. In einem nächsten Schritt müssen die Values der einzelnen Keys nun in einen Gesamtvalue zusammengefügt werden. Für diese Filterung werden wieder die oben erwähnten Codierungen genutzt. Um unterschiedliche Werte gleichnamiger Keys in einen Wert zu integrieren, werden neue Values generiert und die alten gelöscht. Danach erfolgt die Löschung der alten, durchnummerierten Key/Value-Paare."
   ]
  },
  {
   "cell_type": "code",
   "execution_count": 9,
   "id": "47734fd3",
   "metadata": {},
   "outputs": [],
   "source": [
    "for item in grouped_dicts:\n",
    "    \n",
    "    item[\"joined_val-041R_beru\"] = []\n",
    "    item[\"joined_val-041R_bezf\"] = []\n",
    "    item[\"joined_val-041R_bezb\"] = []\n",
    "    item[\"joined_val-041R_ort\"] = []\n",
    "    item[\"joined_val-041R_affi\"] = []\n",
    "    \n",
    "    for key, value in item.items():                                                        \n",
    "        if \"041R_beru-\" in key:\n",
    "            item[\"joined_val-041R_beru\"].append(value)\n",
    "            \n",
    "        if \"041R_bezf-\" in key:\n",
    "            item[\"joined_val-041R_bezf\"].append(value)\n",
    "            \n",
    "        if \"041R_bezb-\" in key:\n",
    "            item[\"joined_val-041R_bezb\"].append(value)\n",
    "            \n",
    "        if \"041R_ort-\" in key:\n",
    "            item[\"joined_val-041R_ort\"].append(value)\n",
    "            \n",
    "        if \"041R_affi-\" in key:\n",
    "            item[\"joined_val-041R_affi\"].append(value)\n",
    "            \n",
    "    # Löschung der alten Key/Value-Paare\n",
    "    old_keys = [\"041R_beru-\", \"041R_bezf-\", \"041R_bezb-\", \"041R_ort-\", \"041R_affi-\"]\n",
    "    \n",
    "    for key in item.copy():\n",
    "        for element in old_keys:\n",
    "            if element in key:\n",
    "                item.pop(key)\n",
    "      \n",
    "    # Rückbenennung der Keys \n",
    "        if key == \"joined_val-041R_beru\":                                                \n",
    "            item[\"041R_beru\"] = item.pop(\"joined_val-041R_beru\")\n",
    "        \n",
    "        if key == \"joined_val-041R_bezf\":\n",
    "            item[\"041R_bezf\"] = item.pop(\"joined_val-041R_bezf\")\n",
    "            \n",
    "        if key == \"joined_val-041R_bezb\":\n",
    "            item[\"041R_bezb\"] = item.pop(\"joined_val-041R_bezb\")\n",
    "\n",
    "        if key == \"joined_val-041R_ort\":\n",
    "            item[\"041R_ort\"] = item.pop(\"joined_val-041R_ort\")\n",
    "            \n",
    "        if key == \"joined_val-041R_affi\":\n",
    "            item[\"041R_affi\"] = item.pop(\"joined_val-041R_affi\")"
   ]
  },
  {
   "cell_type": "markdown",
   "id": "d81824a9",
   "metadata": {},
   "source": [
    "### 9. Aufräumen I: leere Values löschen"
   ]
  },
  {
   "cell_type": "code",
   "execution_count": 10,
   "id": "c5fb016b",
   "metadata": {},
   "outputs": [],
   "source": [
    "for item in grouped_dicts:\n",
    "    item.pop(\"\", None)"
   ]
  },
  {
   "cell_type": "code",
   "execution_count": 11,
   "id": "4ffc65cb",
   "metadata": {},
   "outputs": [],
   "source": [
    "for item in grouped_dicts:\n",
    "    for key, value in list(item.items()):\n",
    "        if not value:\n",
    "            del item[key]"
   ]
  },
  {
   "cell_type": "markdown",
   "id": "e1333fb5",
   "metadata": {},
   "source": [
    "### 10. Aufräumen II: überflüssige Satzarten löschen\n",
    "Die Ausgangsdatei beinhaltete sämtliche Normdatensätze der Hamburg-Bibliographie, nicht nur Personen. Im nächsten Schritt werden alle Items, die keine Personennormdaten verzeichnen, gelöscht. Um folgende Satzarten handelt es sich, sie werden mittels eindeutigen Zeichenabfolgen in den Values des Keys \"041A\" gegriffen.\n",
    "\n",
    "    Zeichenfolge: \"Sk a\" = Körperschaftsdaten\n",
    "                  \"St a\" = Titeldaten\n",
    "                  \"Sf a\" = Medienartdaten\n",
    "                  \"Sg a\" = Gebietsdaten\n",
    "                  \"Ss a\" = Sachdaten\n",
    "                  \"Sz a\" = Zeitdaten\n",
    "                  \"Sc a\" = Gebietskörperschaftsdaten"
   ]
  },
  {
   "cell_type": "code",
   "execution_count": 12,
   "id": "1542cfc9",
   "metadata": {},
   "outputs": [],
   "source": [
    "for item in grouped_dicts.copy():\n",
    "    \n",
    "    data_type = [\"Sk a\", \"St a\", \"Sf a\", \"Sg a\", \"Ss a\", \"Sz a\", \"Sc a\"]\n",
    "    for key in item:\n",
    "        if \"041A\" == key:\n",
    "            for character in data_type:\n",
    "                if character in item[key]:\n",
    "                    grouped_dicts.remove(item)"
   ]
  },
  {
   "cell_type": "markdown",
   "id": "5891e719",
   "metadata": {},
   "source": [
    "Für die nächsten Filterungen der Datenatztypen, die keine (relevanten) Personendaten verzeichenen, wie Datensätze von Schlagwortketten, Personendatensätze von Nicht-Hamburgern sowie Datensätzen von Familien, muss bei meinen Programmierkenntnissen einzeln iteriert werden, da die Filterkriterien nicht ausschließlich einzeln in den Values vorkommen können. Folgende Filterkriterien befinden sich in den Values der Keys \"041A\" und \"050D\".\n",
    "\n",
    "    Filterkriterien: \"Sp a\" und \" x\"           = Datensätze von Schlagwortketten\n",
    "                     \"Sp a\" und \" gFamilie\"    = Familiennormdaten\n",
    "                     \"Sp a\" und \"<Familie>\"    = Familiennormdaten\n",
    "                     \"abio-\"                   = Personennormdaten von Nicht-Hamburgern"
   ]
  },
  {
   "cell_type": "code",
   "execution_count": 13,
   "id": "b9c8b844",
   "metadata": {},
   "outputs": [],
   "source": [
    "for item in grouped_dicts.copy():\n",
    "    for key in item:\n",
    "        if key == \"041A\":\n",
    "            if \"Sp a\" in item[key]:\n",
    "                if \" x\" in item[key]:\n",
    "                    grouped_dicts.remove(item)"
   ]
  },
  {
   "cell_type": "code",
   "execution_count": 14,
   "id": "a70e10f0",
   "metadata": {},
   "outputs": [],
   "source": [
    "for item in grouped_dicts.copy():\n",
    "    for key in item:\n",
    "        if key == \"041A\":\n",
    "            if \"Sp a\" in item[key]:\n",
    "                if \" gFamilie\" in item[key]:\n",
    "                    grouped_dicts.remove(item)"
   ]
  },
  {
   "cell_type": "code",
   "execution_count": 15,
   "id": "1fb801ac",
   "metadata": {},
   "outputs": [],
   "source": [
    "for item in grouped_dicts.copy():\n",
    "    for key in item:\n",
    "        if key == \"041A\":\n",
    "            if \"Sp a\" in item[key]:\n",
    "                if \"<Familie>\" in item[key]:\n",
    "                    grouped_dicts.remove(item)"
   ]
  },
  {
   "cell_type": "code",
   "execution_count": 16,
   "id": "291d3bef",
   "metadata": {},
   "outputs": [],
   "source": [
    "for item in grouped_dicts.copy():\n",
    "    for key in item:\n",
    "        if \"050D\" == key:\n",
    "            if \"abio-\" in item[key]:\n",
    "                grouped_dicts.remove(item)"
   ]
  },
  {
   "cell_type": "code",
   "execution_count": 17,
   "id": "96495023",
   "metadata": {},
   "outputs": [
    {
     "data": {
      "text/plain": [
       "19869"
      ]
     },
     "execution_count": 17,
     "metadata": {},
     "output_type": "execute_result"
    }
   ],
   "source": [
    "# Zählung der Gesamtmenge der verzeichneten Personendaten in der Hamburg-Bibliographie\n",
    "count_items = 0\n",
    "for item in grouped_dicts:\n",
    "    if \"003@\" in item.keys():\n",
    "        count_items += 1\n",
    "count_items        "
   ]
  },
  {
   "cell_type": "markdown",
   "id": "b90aa22d",
   "metadata": {},
   "source": [
    "### 11. Aufräumen III: überflüssige Key/Value-Paare löschen\n",
    "Anmerkung zu Feld 041R: es kann gelöscht werden, da die relevanten Inhalte in neue neubenannte Key/Value-Paare überführt wurden (Feld \"041R\" ist ein Sammelfeld für viele relationierte Daten, die jeweils durch Codierungen - weitaus mehr als die hier relevanten sind möglich - inhaltlich zugeordnet wurden, vgl. Anhang 1). Es befinden sich also nur noch irrelevante Inhalte im Feld sowie relevante Inhalte, die nicht zugeordnet werden können, weil bei ihnen die Codierung nicht aussagekräftig ist, die Codierung fehlt oder diese unkorrekt eingegeben wurde. Auf diese relevanten Inhalte könnte erst nach einer händischen Umarbeitung der originalen Ausgangsdaten zugegriffen werden."
   ]
  },
  {
   "cell_type": "code",
   "execution_count": 18,
   "id": "34c93e02",
   "metadata": {},
   "outputs": [],
   "source": [
    "for item in grouped_dicts:\n",
    "    \n",
    "    item.pop(\"001A\", None)\n",
    "    item.pop(\"001B\", None)\n",
    "    item.pop(\"001D\", None)\n",
    "    item.pop(\"001U\", None)\n",
    "    item.pop(\"001X\", None)\n",
    "    item.pop(\"002@\", None)\n",
    "    item.pop(\"041@\", None)\n",
    "    item.pop(\"041P\", None)\n",
    "    item.pop(\"047A/53\", None)\n",
    "    item.pop(\"050C\", None)\n",
    "    item.pop(\"050G\", None)\n",
    "    item.pop(\"006Y\", None)\n",
    "    item.pop(\"047A/04\", None)\n",
    "    item.pop(\"050E\", None)\n",
    "    item.pop(\"003D\", None)\n",
    "    item.pop(\"041O\", None)\n",
    "    item.pop(\"050H\", None)\n",
    "    item.pop(\"041R\", None)  # Löschung des Keys (Erklärung siehe vorige Zelle)\n",
    "    item.pop(\"007K\", None)"
   ]
  },
  {
   "cell_type": "markdown",
   "id": "2adfff96",
   "metadata": {},
   "source": [
    "Im nächsten Abschnitt werden die Values der übrig gebliebenen Keys endbehandelt, d.h. von allen restlichen Codierungen befreit, bei Bedarf gestript, replaced, gesliced, gesplittet u.a., so dass der reine Inhalt übrig bleibt. Neben des Präsentationszweckes im Graphen und der Verhinderung von Whitespace-Fehlermeldungen ist dieser Schritt auch besonders wichtig für die Values der Keys \"041A\" und \"041R_beru\" bzw. \"041R_bezf\", die bei der Generierung des Graphen direkt abgeglichen werden und daher deren Inhalte in beiden Values gleichlauten müssen. Die Values der übrigen Keys für relationierte Angaben \"041R_bezb\" und \"041R_affi\" werden mitbehandelt für eine eventuelle spätere Nutzung.  Weiterhin werden, um Fehlermeldungen bei der Erzeugung des Graphen zu vermeiden, für alle Keys leere Values erzeugt, sollten in den Originaldaten keine Inhalte vorhanden gewesen sein, damit in jedem Dictionary ein Wert angesteuert werden kann. Dies gilt nicht für den Key \"041A\". Um dort Fehlermeldungen durch fehlenden Values aufgrund falsch eingegebener Originaldaten zu vermeiden, werden in diesem Fall keine leeren Values erzeugt, sondern die Dictionaries ganz gelöscht, da ohne einen Inhalt für den Ankerkey \"041A\" diese Person quasi ja gar nicht vorhanden ist und ein leerer Node für den Graphen generiert werden würde.\n",
    "    Im Folgenden wird aufgrund der Fülle nicht die Gesamtheit aller zu entfernenden Codierungen in den jeweiligen Values näher erläutert, dazu empfiehlt sich bei Interesse ein Blick in die Ausgangsdaten."
   ]
  },
  {
   "cell_type": "markdown",
   "id": "f979a0db",
   "metadata": {},
   "source": [
    "### 12. Abschlussbehandlung Value \"041A\" (Personenname)"
   ]
  },
  {
   "cell_type": "code",
   "execution_count": 19,
   "id": "04aaabb4",
   "metadata": {},
   "outputs": [],
   "source": [
    "for item in grouped_dicts:\n",
    "    for key in item:\n",
    "        if key == \"041A\":\n",
    "            item[key] = str(item[key][4:]).lstrip().replace(\"^\", \"\").replace(\" g\", \"; \")\n",
    "            item[key] = [item[key]]"
   ]
  },
  {
   "cell_type": "code",
   "execution_count": 20,
   "id": "db284b4b",
   "metadata": {},
   "outputs": [],
   "source": [
    "for item in grouped_dicts.copy():\n",
    "    if \"041A\" not in item:\n",
    "        grouped_dicts.remove(item)   "
   ]
  },
  {
   "cell_type": "markdown",
   "id": "328e904c",
   "metadata": {},
   "source": [
    "### 13. Abschlussbehandlung Value \"047A/02\" (Biogramm)"
   ]
  },
  {
   "cell_type": "code",
   "execution_count": 21,
   "id": "c520ba2d",
   "metadata": {},
   "outputs": [],
   "source": [
    "for item in grouped_dicts:\n",
    "    for key in item:\n",
    "        if key == \"047A/02\":\n",
    "            item[key] = str(item[key]).replace(\"a\", \"\", 1)\n",
    "            item[key] = [item[key]]"
   ]
  },
  {
   "cell_type": "code",
   "execution_count": 22,
   "id": "dc6ba3ed",
   "metadata": {},
   "outputs": [],
   "source": [
    "for item in grouped_dicts:\n",
    "    for key in item.copy():\n",
    "        if \"047A/02\" not in item:\n",
    "            item[\"047A/02\"] = []"
   ]
  },
  {
   "cell_type": "markdown",
   "id": "7377b4db",
   "metadata": {},
   "source": [
    "### 14. Abschlussbehandlung Value \"047A\" (Berufsangaben Altdaten)\n",
    "Aufgrund von Altdatentransformationen existieren auch Berufsangaben in einem anderen Feld als dem richtlinienvorgeschriebenen \"041R\". Glücklicherweise können nicht beide Felder mit Berufsangaben in einem Datensatz der Ausgangsdaten vorkommen, es gibt sie nur je und je, das hat Arbeitsschritte gespart. \"047A\" wird hier bearbeitet und zum Key \"041R_beru\" gewandelt."
   ]
  },
  {
   "cell_type": "code",
   "execution_count": 23,
   "id": "23abc3bf",
   "metadata": {},
   "outputs": [],
   "source": [
    "for item in grouped_dicts:\n",
    "    for key in item:\n",
    "        if key == \"047A\":\n",
    "            item[key] = str(item[key]).lstrip(\n",
    "                \"a\").replace(\n",
    "                \".\", \"\").replace(\n",
    "                \"; \", \"\").replace(\n",
    "                \"und \", \"\").replace(\n",
    "                \",\", \"\").split()"
   ]
  },
  {
   "cell_type": "code",
   "execution_count": 24,
   "id": "c8850730",
   "metadata": {},
   "outputs": [],
   "source": [
    "for item in grouped_dicts:\n",
    "    if \"047A\" in item:\n",
    "        item[\"047A_beru\"] = item.pop(\"047A\")"
   ]
  },
  {
   "cell_type": "markdown",
   "id": "73533bbb",
   "metadata": {},
   "source": [
    "### 15. Abschlussbehandlung Value \"041R_beru\" (Berufsangaben)"
   ]
  },
  {
   "cell_type": "code",
   "execution_count": 25,
   "id": "b642eb0f",
   "metadata": {},
   "outputs": [],
   "source": [
    "for item in grouped_dicts:\n",
    "    for key in item.copy():  \n",
    "        if key == \"041R_beru\":\n",
    "            item[\"temp_041R_beru\"] = []\n",
    "            for element in item[key]:\n",
    "                item[\"temp_041R_beru\"].append(element.replace(\" 4beru\", \"\").replace(\" v\", \", \", 1))\n",
    "                \n",
    "            item.pop(key)"
   ]
  },
  {
   "cell_type": "code",
   "execution_count": 26,
   "id": "fcce7463",
   "metadata": {},
   "outputs": [],
   "source": [
    "for item in grouped_dicts:\n",
    "    if \"temp_041R_beru\" in item:\n",
    "        item[\"041R_beru\"] = item.pop(\"temp_041R_beru\")"
   ]
  },
  {
   "cell_type": "markdown",
   "id": "eca90bb4",
   "metadata": {},
   "source": [
    "Umbenennen des Altdatenfeldes \"047A\" in das gleichnamige Feld \"041R_beru\", damit alle Berufsdaten die gleiche Keybenennung haben (siehe oben)."
   ]
  },
  {
   "cell_type": "code",
   "execution_count": 27,
   "id": "924eac2a",
   "metadata": {},
   "outputs": [],
   "source": [
    "for item in grouped_dicts:\n",
    "    for key in item.copy(): \n",
    "        if key == \"047A_beru\":\n",
    "            item[\"041R_beru\"] = item.pop(\"047A_beru\")\n",
    "        \n",
    "        if \"041R_beru\" not in item:\n",
    "                item[\"041R_beru\"] = []"
   ]
  },
  {
   "cell_type": "markdown",
   "id": "19ae2af8",
   "metadata": {},
   "source": [
    "### 16. Abschlussbehandlung Value \"041R_bezf\" (familiäre Beziehungsangaben)\n",
    "Eine Besonderheit für die Inhalte von Key \"041R_bef\" (familiäre Beziehungsangaben) sind erwähnenswert: in den Originaldaten können neben den Namen der Familienmitglieder auch die jeweilige Beziehungskategorie (Schwester, Vater, Sohn u.a.) erfasst werden. Leider darf diese nicht erhalten bleiben, da zum Abgleich mit Key \"041A\" bei der Generation des Graphen gleichlautende Einträge vorhanden sein müssen (vgl. oben). Das ist schade, denn so gehen Informationen verloren. In einer Ausbaustufe des Projektes ist geplant, diese Angaben in die Biogramme (\"047A/02\") zu integrieren, um sie zu erhalten."
   ]
  },
  {
   "cell_type": "code",
   "execution_count": 28,
   "id": "920a4b2a",
   "metadata": {},
   "outputs": [],
   "source": [
    "for item in grouped_dicts:\n",
    "    for key in item.copy():  \n",
    "        if key == \"041R_bezf\":\n",
    "            item[\"temp_041R_bezf\"] = []\n",
    "            for element in item[key]:\n",
    "                element = element.rsplit(\"4bezf\", 1)[0]\n",
    "                element = element.rstrip(\"4bezf\").rstrip().replace(\"^\", \"\")\n",
    "                item[\"temp_041R_bezf\"].append(element)\n",
    "                \n",
    "            item.pop(key)"
   ]
  },
  {
   "cell_type": "code",
   "execution_count": 29,
   "id": "6973bb57",
   "metadata": {},
   "outputs": [],
   "source": [
    "for item in grouped_dicts:\n",
    "    for key in item.copy():\n",
    "        if key == \"temp_041R_bezf\":\n",
    "            item[\"041R_bezf\"] = item.pop(\"temp_041R_bezf\") \n",
    "        \n",
    "        if \"041R_bezf\" not in item:\n",
    "            item[\"041R_bezf\"] = []"
   ]
  },
  {
   "cell_type": "markdown",
   "id": "fccccb31",
   "metadata": {},
   "source": [
    "### 17. Abschlussbehandlung Value \"041R_bezb\" (berufliche Beziehungsangaben)\n",
    "Vgl. Punkt 16. Diese Angaben gehören zu dem Kreis der für den Graphen potentiell nutzbaren. Da sie in den Originaldaten jedoch nicht häufig besetzt sind, wird hier zunächst davon Abstand genommen."
   ]
  },
  {
   "cell_type": "code",
   "execution_count": 30,
   "id": "fe4c47ad",
   "metadata": {},
   "outputs": [],
   "source": [
    "for item in grouped_dicts:\n",
    "    for key in item.copy():  \n",
    "        if key == \"041R_bezb\":\n",
    "            item[\"temp_041R_bezb\"] = []\n",
    "            for element in item[key]:\n",
    "                element = element.rsplit(\"4bezb\", 1)[0]\n",
    "                element = element.rstrip(\"4bezb\").rstrip().replace(\"^\", \"\")\n",
    "                item[\"temp_041R_bezb\"].append(element)\n",
    "                \n",
    "            item.pop(key)"
   ]
  },
  {
   "cell_type": "code",
   "execution_count": 31,
   "id": "f8371329",
   "metadata": {},
   "outputs": [],
   "source": [
    "for item in grouped_dicts:\n",
    "    for key in item.copy():\n",
    "        if key == \"temp_041R_bezb\":\n",
    "            item[\"041R_bezb\"] = item.pop(\"temp_041R_bezb\")\n",
    "        \n",
    "        if \"041R_bezb\" not in item:\n",
    "                item[\"041R_bezb\"] = []"
   ]
  },
  {
   "cell_type": "markdown",
   "id": "d222c4c5",
   "metadata": {},
   "source": [
    "### 18. Abschlussbehandlung Value \"041R_affi\" (institutionelle Beziehungsangaben)\n",
    "Vgl. Punkt 17."
   ]
  },
  {
   "cell_type": "code",
   "execution_count": 32,
   "id": "43fa7248",
   "metadata": {},
   "outputs": [],
   "source": [
    "for item in grouped_dicts:\n",
    "    for key in item.copy():  \n",
    "        if key == \"041R_affi\":\n",
    "            \n",
    "            item[\"temp_041R_affi\"] = []\n",
    "            for element in item[key]:\n",
    "                item[\"temp_041R_affi\"].append(\n",
    "                    element.replace(\n",
    "                    \" 4affi v\", \"; \").replace(\n",
    "                    \" 4affi\", \"\").replace(\n",
    "                    \" Z\", \" \").replace(\n",
    "                    \" g\", \", \").replace(\n",
    "                    \" x\", \", \"))\n",
    "            item.pop(key)"
   ]
  },
  {
   "cell_type": "code",
   "execution_count": 33,
   "id": "92cf0df3",
   "metadata": {},
   "outputs": [],
   "source": [
    "for item in grouped_dicts:\n",
    "    for key in item.copy():\n",
    "        \n",
    "        if key == \"temp_041R_affi\":\n",
    "            item[\"041R_affi\"] = item.pop(\"temp_041R_affi\")\n",
    "        \n",
    "        if \"041R_affi\" not in item:\n",
    "                item[\"041R_affi\"] = []"
   ]
  },
  {
   "cell_type": "markdown",
   "id": "ce31c64f",
   "metadata": {},
   "source": [
    "Im folgenden werden Angaben endbehandelt, die zu den biographischen Angaben zählen (Geburts-/Sterbeorte, Lebensdaten). Sie sind für eine Ausbaustufe des Projektes zur Integration in die Biogramme eingeplant. Dafür werden ggf. auch schon Angaben hinzugefügt."
   ]
  },
  {
   "cell_type": "markdown",
   "id": "3116d4f6",
   "metadata": {},
   "source": [
    "### 19. Abschlussbehandlung Value \"041R_ort\" (Geburts-/Sterbeort)"
   ]
  },
  {
   "cell_type": "code",
   "execution_count": 34,
   "id": "e8f87072",
   "metadata": {},
   "outputs": [],
   "source": [
    "for item in grouped_dicts:\n",
    "    for key in list(item):  \n",
    "        if key == \"041R_ort\":\n",
    "            item[\"temp_041R_ort\"] = []\n",
    "            for element in list(item[key]):\n",
    "                if \"4ortg\" in element:\n",
    "                    item[\"temp_041R_ort\"].append(\"geb. \" + element.replace(\" 4ortg\", \"\"))\n",
    "                if \"4orts\" in element:\n",
    "                    item[\"temp_041R_ort\"].append(\"gest. \" + element.replace(\" 4orts\", \"\"))\n",
    "            item.pop(key)"
   ]
  },
  {
   "cell_type": "code",
   "execution_count": 35,
   "id": "d10f25ee",
   "metadata": {},
   "outputs": [],
   "source": [
    "for item in grouped_dicts:\n",
    "    for key in item.copy():\n",
    "        \n",
    "        if key == \"temp_041R_ort\":\n",
    "            item[\"041R_ort\"] = item.pop(\"temp_041R_ort\")\n",
    "        \n",
    "        if \"041R_ort\" not in item:\n",
    "                item[\"041R_ort\"] = []"
   ]
  },
  {
   "cell_type": "markdown",
   "id": "6047174f",
   "metadata": {},
   "source": [
    "### 20. Abschlussbehandlung Value \"060R_datl\" (einfache Lebensdaten)"
   ]
  },
  {
   "cell_type": "code",
   "execution_count": 36,
   "id": "d8c44235",
   "metadata": {},
   "outputs": [],
   "source": [
    "for item in grouped_dicts:\n",
    "    for key in item:\n",
    "        if key == \"060R_datl\":\n",
    "            item[key] = item[key].replace(\" 4datl\", \"\").replace(\" v\", \", \", 1).replace(\" b\", \" +\", 1)\n",
    "            \n",
    "            if item[key][0] == \"a\":\n",
    "                item[key] = \"*\" + item[key][1:] \n",
    "            \n",
    "            if item[key][0] == \"b\":\n",
    "                item[key] = \"+\" + item[key][1:]\n",
    "            \n",
    "            item[key] = [item[key]]            "
   ]
  },
  {
   "cell_type": "code",
   "execution_count": 37,
   "id": "ea65bcfa",
   "metadata": {},
   "outputs": [],
   "source": [
    "for item in grouped_dicts:\n",
    "    for key in item.copy():\n",
    "        if \"060R_datl\" not in item:\n",
    "                item[\"060R_datl\"] = []"
   ]
  },
  {
   "cell_type": "markdown",
   "id": "8d510062",
   "metadata": {},
   "source": [
    "### 21. Abschlussbehandlung Value \"060R_datx\" (exakte Lebensdaten)"
   ]
  },
  {
   "cell_type": "code",
   "execution_count": 38,
   "id": "5ee44ca6",
   "metadata": {},
   "outputs": [],
   "source": [
    "for item in grouped_dicts:\n",
    "    for key in item:\n",
    "        if key == \"060R_datx\":\n",
    "            item[key] = item[key].replace(\" 4datx\", \"\").replace(\" v\", \", \", 1).replace(\" b\", \" +\", 1)\n",
    "            \n",
    "            if item[key][0] == \"a\":\n",
    "                item[key] = \"*\" + item[key][1:] \n",
    "            \n",
    "            if item[key][0] == \"b\":\n",
    "                item[key] = \"+\" + item[key][1:]\n",
    "            \n",
    "            item[key] = [item[key]]"
   ]
  },
  {
   "cell_type": "code",
   "execution_count": 39,
   "id": "5ee41f4b",
   "metadata": {},
   "outputs": [],
   "source": [
    "for item in grouped_dicts:\n",
    "    for key in item.copy():\n",
    "        if \"060R_datx\" not in item:\n",
    "                item[\"060R_datx\"] = []"
   ]
  },
  {
   "cell_type": "markdown",
   "id": "3bee4079",
   "metadata": {},
   "source": [
    "### 22. Abschlussbehandlung Value \"060R\" (falsch codierte Lebensaten / uncodierte Lebensdaten aus Altdaten)\n",
    "In diesem Feld befinden sich nur noch, nachdem datl- und datx-codierte Angaben in eigene Key/Value-Paare gewandert sind, durch Eingabefehler falsch codierte datl-, datx-Daten sowie Daten ohne Codierung aus Altdaten. Es wird versucht, so viele Falschcodierungen zu löschen wie bei einem Datenscan gefunden werden konnten."
   ]
  },
  {
   "cell_type": "code",
   "execution_count": 40,
   "id": "e04ae54b",
   "metadata": {},
   "outputs": [],
   "source": [
    "for item in grouped_dicts:\n",
    "    for key in item:\n",
    "        if key == \"060R\":\n",
    "            item[key] = item[key].replace(\n",
    "                \" 4datw\", \"\").replace(\n",
    "                \" 4dats\", \"\").replace(\n",
    "                \" 4datb\", \"\").replace(\n",
    "                \" bdatx\", \"\").replace(\n",
    "                \" bdatl\", \"\").replace(\n",
    "                \" datz\", \"\").replace(\n",
    "                \" datl\", \"\").replace(\n",
    "                \" 4dtl\", \"\").replace(\n",
    "                \" v\", \", \", 1).replace(\n",
    "                \" b\", \" +\", 1)\n",
    "            \n",
    "            if item[key][0] == \"a\":\n",
    "                item[key] = \"*\" + item[key][1:] \n",
    "            \n",
    "            if item[key][0] == \"b\":\n",
    "                item[key] = \"+\" + item[key][1:]\n",
    "                \n",
    "            if item[key][0] == \"\":\n",
    "                item[key] = \"*\" + item[key][1:] \n",
    "                \n",
    "            item[key] = [item[key]]"
   ]
  },
  {
   "cell_type": "code",
   "execution_count": 41,
   "id": "2b5eb66e",
   "metadata": {},
   "outputs": [],
   "source": [
    "for item in grouped_dicts:\n",
    "    for key in item.copy():\n",
    "        if \"060R\" not in item:\n",
    "                item[\"060R\"] = []"
   ]
  },
  {
   "cell_type": "markdown",
   "id": "3c89e62f",
   "metadata": {},
   "source": [
    "### 23. Abschlussbehandlung Value \"003@\"\n",
    "Der Value von Key \"003@\" ist die Datensatz-ID für jeden Personendatensatz. Für die Genererierung des Netzwerkgraphen ist sie nicht relevant, aus datenpraktischen Gründen wird sie aber mitgeführt, um etwa Fehler in den Originaldaten schnell lokalisieren zu können."
   ]
  },
  {
   "cell_type": "code",
   "execution_count": 42,
   "id": "e11137bb",
   "metadata": {},
   "outputs": [],
   "source": [
    "for item in grouped_dicts:\n",
    "    for key in item:\n",
    "        if key == \"003@\":\n",
    "            item[\"003@\"] = [item[\"003@\"]] "
   ]
  },
  {
   "cell_type": "markdown",
   "id": "758a3f7d",
   "metadata": {},
   "source": [
    "### 24. Keys bekommen sprechende Namen"
   ]
  },
  {
   "cell_type": "code",
   "execution_count": 43,
   "id": "454bbd30",
   "metadata": {},
   "outputs": [],
   "source": [
    "for item in grouped_dicts:\n",
    "    for key in item.copy():\n",
    "        \n",
    "        if key == \"060R\":\n",
    "            item[\"date\"] = item.pop(\"060R\")\n",
    "            \n",
    "        if key == \"060R_datl\":\n",
    "            item[\"date_simple\"] = item.pop(\"060R_datl\")\n",
    "            \n",
    "        if key == \"060R_datx\":\n",
    "            item[\"date_exact\"] = item.pop(\"060R_datx\")\n",
    "            \n",
    "        if key == \"041R_beru\":\n",
    "            item[\"job\"] = item.pop(\"041R_beru\")\n",
    "            \n",
    "        if key == \"041R_bezf\":\n",
    "            item[\"relation_fam\"] = item.pop(\"041R_bezf\")\n",
    "            \n",
    "        if key == \"041R_bezb\":\n",
    "            item[\"relation_job\"] = item.pop(\"041R_bezb\")\n",
    "            \n",
    "        if key == \"041R_affi\":\n",
    "            item[\"relation_inst\"] = item.pop(\"041R_affi\")\n",
    "            \n",
    "        if key == \"041R_ort\":\n",
    "            item[\"place_birth_death\"] = item.pop(\"041R_ort\")\n",
    "            \n",
    "        if key == \"047A/02\":\n",
    "            item[\"bio\"] = item.pop(\"047A/02\")\n",
    "            \n",
    "        if key == \"041A\":\n",
    "            item[\"name\"] = item.pop(\"041A\")\n",
    "            \n",
    "        if key == \"003@\":\n",
    "            item[\"ppn\"] = item.pop(\"003@\")"
   ]
  },
  {
   "cell_type": "markdown",
   "id": "3e66efd7",
   "metadata": {},
   "source": [
    "### 25. Erstellung json-Dateien\n",
    "#### 25.1 Gesamtdatei"
   ]
  },
  {
   "cell_type": "code",
   "execution_count": 44,
   "id": "54632859",
   "metadata": {},
   "outputs": [],
   "source": [
    "with open(\"hhbib_persons.json\", \"w\") as outfile:\n",
    "    json.dump(grouped_dicts, outfile, indent=4, ensure_ascii=False)"
   ]
  },
  {
   "cell_type": "markdown",
   "id": "0f16512a",
   "metadata": {},
   "source": [
    "#### 25.2 Gesamtdatei zur Erstellung des Graphen in Pyvis\n",
    "Als darstellerische Variante für den Graphen kann ein übergreifendes Item \"Hamburg\" gedacht werden, das als \"Urpunktnode\" alle Personen miteinander verbindet. Damit kann ein Graph mit einem Bezugspunkt für alle relationierten Daten erstellt werden (vgl. Punkt 26). Dies ist als darstellerische Variante gedacht. Daher wird ein übergeordnetes Dictionary mit der Keybenennung \"Hamburg\" angelegt, das bei Bedarf bei der Erstellung des Graphen berücksichtigt werden kann."
   ]
  },
  {
   "cell_type": "code",
   "execution_count": 45,
   "id": "21b6636f",
   "metadata": {},
   "outputs": [],
   "source": [
    "hamburg_node = {\"Hamburg\": grouped_dicts}"
   ]
  },
  {
   "cell_type": "code",
   "execution_count": 46,
   "id": "51e3db89",
   "metadata": {},
   "outputs": [
    {
     "data": {
      "text/plain": [
       "19865"
      ]
     },
     "execution_count": 46,
     "metadata": {},
     "output_type": "execute_result"
    }
   ],
   "source": [
    "# Überprüfung der Anzahl der Items = Personen\n",
    "count_items = 0\n",
    "for item in hamburg_node[\"Hamburg\"]:\n",
    "    if \"ppn\" in item.keys():\n",
    "        count_items += 1\n",
    "count_items"
   ]
  },
  {
   "cell_type": "code",
   "execution_count": 47,
   "id": "93dbeb78",
   "metadata": {},
   "outputs": [],
   "source": [
    "with open(\"hh_persons.json\", \"w\") as outfile:\n",
    "    json.dump(hamburg_node, outfile, indent=4, ensure_ascii=False)"
   ]
  },
  {
   "cell_type": "markdown",
   "id": "2bb61f9b",
   "metadata": {},
   "source": [
    "#### 25.3 Datei zur Darstellung der Beziehungskonstellation \"Person/familäre Beziehung\":\n",
    "Probedurchläufe haben ergeben, dass durch die Berücksichtigung der Gesamtpersonendaten mit familiärem Bezug lange Ladezeiten für die Anzeige des Graphen entstehen. Daher wird die Datenmenge in einer Datei auch auf Personendaten mit mindestens zwei Verwandtschaftsbeziehungen reduziert."
   ]
  },
  {
   "cell_type": "code",
   "execution_count": 48,
   "id": "0bad27ae",
   "metadata": {},
   "outputs": [],
   "source": [
    "with open(\"hhbib_persons.json\", \"r+\", encoding = \"utf-8\") as infile:\n",
    "    hh_persons_fam = json.load(infile)"
   ]
  },
  {
   "cell_type": "code",
   "execution_count": 49,
   "id": "66c23119",
   "metadata": {},
   "outputs": [
    {
     "data": {
      "text/plain": [
       "571"
      ]
     },
     "execution_count": 49,
     "metadata": {},
     "output_type": "execute_result"
    }
   ],
   "source": [
    "# Anzahl der Items, in denen Verwandtschaftsbeziehungen vorliegen\n",
    "count_items = 0\n",
    "for item in hh_persons_fam:\n",
    "    for key, value in item.items():\n",
    "        if key == \"relation_fam\":\n",
    "            if value:\n",
    "                count_items += 1\n",
    "count_items"
   ]
  },
  {
   "cell_type": "code",
   "execution_count": 50,
   "id": "2c9ddf3d",
   "metadata": {},
   "outputs": [],
   "source": [
    "for item in hh_persons_fam.copy():\n",
    "    for key, value in item.items():\n",
    "        if key == \"relation_fam\":\n",
    "            if not value:\n",
    "                hh_persons_fam.remove(item)"
   ]
  },
  {
   "cell_type": "code",
   "execution_count": 51,
   "id": "eed5bc8b",
   "metadata": {},
   "outputs": [],
   "source": [
    "with open(\"hh_persons_fam_all.json\", \"w\") as outfile:\n",
    "    json.dump({\"Hamburg\" : hh_persons_fam}, outfile, indent=4, ensure_ascii=False)"
   ]
  },
  {
   "cell_type": "code",
   "execution_count": 52,
   "id": "de42ed57",
   "metadata": {},
   "outputs": [],
   "source": [
    "for item in hh_persons_fam.copy():\n",
    "    for key, value in item.items():\n",
    "        if key == \"relation_fam\":\n",
    "            if len(value) <= 1:\n",
    "                hh_persons_fam.remove(item)"
   ]
  },
  {
   "cell_type": "code",
   "execution_count": 53,
   "id": "ba362365",
   "metadata": {},
   "outputs": [
    {
     "data": {
      "text/plain": [
       "191"
      ]
     },
     "execution_count": 53,
     "metadata": {},
     "output_type": "execute_result"
    }
   ],
   "source": [
    "# Anzahl der Personen mit mindestens zwei Verwandtschaftsbeziehungen\n",
    "count_items = 0\n",
    "for item in hh_persons_fam:\n",
    "    if \"ppn\" in item.keys():\n",
    "        count_items += 1\n",
    "count_items"
   ]
  },
  {
   "cell_type": "code",
   "execution_count": 54,
   "id": "4a3316c5",
   "metadata": {},
   "outputs": [],
   "source": [
    "with open(\"hh_persons_fam_2.json\", \"w\") as outfile:\n",
    "    json.dump({\"Hamburg\" : hh_persons_fam}, outfile, indent=4, ensure_ascii=False)"
   ]
  },
  {
   "cell_type": "markdown",
   "id": "e59b020e",
   "metadata": {},
   "source": [
    "#### 25.4 Datei zur Darstellung der Beziehungskonstellation \"Person/Berufsangaben\"\n",
    "Auch hier ist wie unter Punkt 25.3 eine Datenreduzierung nötig, jedoch noch drastischer. Es werden zwei Dateien erstellt, die eine mit der Begrenzung auf mindestens vier Berufsangaben, die andere auf mindestens fünf."
   ]
  },
  {
   "cell_type": "code",
   "execution_count": 55,
   "id": "179d5d1a",
   "metadata": {},
   "outputs": [],
   "source": [
    "with open(\"hhbib_persons.json\", \"r+\", encoding = \"utf-8\") as infile:\n",
    "    hh_persons_job = json.load(infile)"
   ]
  },
  {
   "cell_type": "code",
   "execution_count": 56,
   "id": "39392bdb",
   "metadata": {},
   "outputs": [
    {
     "data": {
      "text/plain": [
       "16757"
      ]
     },
     "execution_count": 56,
     "metadata": {},
     "output_type": "execute_result"
    }
   ],
   "source": [
    "# Gesamtanzahl der Items mit verzeichneten Berufsangaben\n",
    "count_items = 0\n",
    "for item in hh_persons_job:\n",
    "    for key, value in item.items():\n",
    "        if key == \"job\":\n",
    "            if value:\n",
    "                count_items += 1\n",
    "count_items"
   ]
  },
  {
   "cell_type": "markdown",
   "id": "15a110c9",
   "metadata": {},
   "source": [
    "Beschränkung auf Personen mit mindestens vier Berufsangaben"
   ]
  },
  {
   "cell_type": "code",
   "execution_count": 57,
   "id": "4bbd79aa",
   "metadata": {},
   "outputs": [],
   "source": [
    "for item in hh_persons_job.copy():\n",
    "    for key, value in item.items():\n",
    "        if key == \"job\":\n",
    "            if len(value) <= 3:\n",
    "                hh_persons_job.remove(item)"
   ]
  },
  {
   "cell_type": "code",
   "execution_count": 58,
   "id": "2d2fff15",
   "metadata": {},
   "outputs": [
    {
     "data": {
      "text/plain": [
       "673"
      ]
     },
     "execution_count": 58,
     "metadata": {},
     "output_type": "execute_result"
    }
   ],
   "source": [
    "# Anzahl der Items mit mindestens vier verzeichneten Berufsangaben\n",
    "count_items = 0\n",
    "for item in hh_persons_job:\n",
    "    if \"ppn\" in item.keys():\n",
    "        count_items += 1\n",
    "count_items"
   ]
  },
  {
   "cell_type": "code",
   "execution_count": 59,
   "id": "2e3a6091",
   "metadata": {},
   "outputs": [],
   "source": [
    "with open(\"hh_persons_job_4.json\", \"w\") as outfile:\n",
    "    json.dump({\"Hamburg\" : hh_persons_job}, outfile, indent=4, ensure_ascii=False)"
   ]
  },
  {
   "cell_type": "markdown",
   "id": "1ee6b56d",
   "metadata": {},
   "source": [
    "Beschränkung auf Personen mit mindestens fünf Berufsangaben"
   ]
  },
  {
   "cell_type": "code",
   "execution_count": 60,
   "id": "51e9a5dc",
   "metadata": {},
   "outputs": [],
   "source": [
    "for item in hh_persons_job.copy():\n",
    "    for key, value in item.items():\n",
    "        if key == \"job\":\n",
    "            if len(value) <= 4:\n",
    "                hh_persons_job.remove(item)"
   ]
  },
  {
   "cell_type": "code",
   "execution_count": 61,
   "id": "9baf3744",
   "metadata": {},
   "outputs": [
    {
     "data": {
      "text/plain": [
       "197"
      ]
     },
     "execution_count": 61,
     "metadata": {},
     "output_type": "execute_result"
    }
   ],
   "source": [
    "# Anzahl der Items mit mindestens vier verzeichneten Berufsangaben\n",
    "count_items = 0\n",
    "for item in hh_persons_job:\n",
    "    if \"ppn\" in item.keys():\n",
    "        count_items += 1\n",
    "count_items"
   ]
  },
  {
   "cell_type": "code",
   "execution_count": 62,
   "id": "cb684367",
   "metadata": {},
   "outputs": [],
   "source": [
    "with open(\"hh_persons_job_5.json\", \"w\") as outfile:\n",
    "    json.dump({\"Hamburg\" : hh_persons_job}, outfile, indent=4, ensure_ascii=False)"
   ]
  },
  {
   "cell_type": "markdown",
   "id": "5340dcc9",
   "metadata": {},
   "source": [
    "## B. Erstellung des Netzwerkgraphen\n",
    "Wie das Skript zur Erstellung der json-Datei ist auch dieses in Zusammenhang mit der Ausarbeitung zu lesen. Über die einfache Erzeugung eines Graphen hinaus, werden hier zwei darstellerische Optionen zusätzlich angeboten:\n",
    "1. Da die Personen als Familienmitglieder zwar untereinander durch Edges verknüpft werden, aber nicht die Familien untereinander (das spiegeln die Originaldaten nicht wieder), entstehen Familiensubnetze. Um ein verbindendes Element herzustellen, was allen Familien gemeinsam ist, kam die Idee eines übergeordneten \"Hamburg\"-Nodes auf, das mit allen Familien mittels eines Edges verbunden ist. Dazu wurde eine Liste mit jeweils nur einem Mitglied einer Familie erstellt, deren Einträge im Skript zur Erzeugung der Edges eingesetzt werden (hamburg_edges.txt). Es ist auch eine Variante möglich, in der alle Personen (Nodes) mit diesem Hamburg-Node verbunden sind. Das ist allerdings zwar hübsch anzusehen, aber etwas unpraktisch, weil dann die Familienverbindungen visuell nur schwer erkennbar und auseinander zu klabüstern sind.\n",
    "1. Zur besseren visuellen Erfassbarkeit der einzelnen Familiennetze entstand weiterhin die Idee, diese farblich unterschiedlich zu erzeugen. Dazu wurden zufällig generierte Hex-ColorCodes erzeugt und diese dann den Nodes zugewiesen.\n",
    "\n",
    "    In der folgenden Skriptzelle sind die gesamten, ausprobierten Optionen zur Visualisierung des Netzwerkes dargestellt. Für die Generierung varianter Visualisierungen/html-Dateien damit - auch mit den oben erstellten verschiedenen Dateien - werden einige entsprechend ausgeblendet oder Werte geändert. Die Einzelskripte dazu werden in der gesonderten Datei \"variant_visualization_options.ipynb\" notiert und annotiert."
   ]
  },
  {
   "cell_type": "code",
   "execution_count": 63,
   "id": "e4ce2d06",
   "metadata": {},
   "outputs": [],
   "source": [
    "with open(\"hh_persons_fam_2.json\", \"r\", encoding = \"utf-8\") as infile:\n",
    "    \n",
    "    data_fam_2 = json.load(infile)\n",
    "    hhbib_data = data_fam_2[\"Hamburg\"]\n",
    "    hamburg_edges = []\n",
    "    \n",
    "    # Laden der Datei \"hamburg_edges.txt\" und Erzeugung der Liste für die \"Hamburg-Edges\"\n",
    "    with open(\"hamburg_edges.txt\", \"r\", encoding = \"utf-8\") as infile_2:\n",
    "        for line in infile_2:\n",
    "            hh_name = line[:-1]\n",
    "            hamburg_edges.append(hh_name)\n",
    "               \n",
    "        # Erzeugung des Graphen\n",
    "        g = Network(height=\"1000px\", width=\"100%\", bgcolor=\"#FBFCFC\", font_color=\"black\")\n",
    "        \n",
    "        # Erzeugung \"Hamburg-Node\"\n",
    "        for hamburg in data_fam_2:\n",
    "            g.add_node(hamburg, color=\"#2471A3\", size=100)\n",
    "               \n",
    "        # Erzeugung von Variablen für Nodes, relationierte Nodes, Title der Nodes    \n",
    "        for person in hhbib_data:\n",
    "            name = person[\"name\"][0]\n",
    "            relation = person[\"relation_fam\"]\n",
    "            bio = person[\"bio\"]\n",
    "            \n",
    "            # Erzeugung einer Variablen zur Zuweisung von zufällig generierten Hex-ColorCodes zu den Nodes\n",
    "            random_colnumber = random.randint(0, 17687459)\n",
    "            hex_number = str(hex(random_colnumber))\n",
    "            hex_number = \"#\" + hex_number[2:]\n",
    "            \n",
    "            # Erzeugung der Hauptnodes\n",
    "            g.add_node(name, color=hex_number, title=bio, size=50) \n",
    "            \n",
    "            # Erzeugung der relationierten Nodes sowie den Edges\n",
    "            for rela in relation:     \n",
    "                g.add_node(rela, color=hex_number, size=50)\n",
    "                g.add_edge(name, rela)\n",
    "                \n",
    "                # Erzeugung der \"Hamburg-Edges\"\n",
    "                for item in hamburg_edges:\n",
    "                    if item == name:\n",
    "                        g.add_edge(hamburg, name)\n",
    "                    if item == rela:\n",
    "                        g.add_edge(hamburg, rela)\n",
    "        \n",
    "        # Layout-Algorithmen\n",
    "        g.barnes_hut()        \n",
    "        #g.force_atlas_2based()\n",
    "        #g.hrepulsion()\n",
    "        #g.repulsion()\n",
    "        #g.show_buttons()\n",
    "        #g.set_options(''' var options = {\n",
    "        #\"nodes\": {\"font\": {\"size\": 20}},\n",
    "        #\"physics\": {\"barnesHut\": {\"springLength\": 400, \"springConstant\": 0.1}}}  ''')\n",
    "        \n",
    "        # Erzeugung der Visualisierung und der html-Datei\n",
    "        g.show(\"hhbib_networkGraph_1.html\")"
   ]
  },
  {
   "cell_type": "code",
   "execution_count": null,
   "id": "db9a3400",
   "metadata": {},
   "outputs": [],
   "source": []
  }
 ],
 "metadata": {
  "kernelspec": {
   "display_name": "Python 3 (ipykernel)",
   "language": "python",
   "name": "python3"
  },
  "language_info": {
   "codemirror_mode": {
    "name": "ipython",
    "version": 3
   },
   "file_extension": ".py",
   "mimetype": "text/x-python",
   "name": "python",
   "nbconvert_exporter": "python",
   "pygments_lexer": "ipython3",
   "version": "3.9.7"
  }
 },
 "nbformat": 4,
 "nbformat_minor": 5
}
