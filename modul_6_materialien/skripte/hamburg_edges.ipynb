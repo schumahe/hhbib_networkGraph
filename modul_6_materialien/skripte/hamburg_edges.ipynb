{
 "cells": [
  {
   "cell_type": "markdown",
   "id": "e0069d3b",
   "metadata": {},
   "source": [
    "<div align=\"right\"> <h1 align=\"right\">Anhang 4</h1></div>"
   ]
  },
  {
   "cell_type": "markdown",
   "id": "2c790aef",
   "metadata": {},
   "source": [
    "## Liste zur Generierung von Edges vom \"Hamburg-Node\" zu jeder Familie"
   ]
  },
  {
   "cell_type": "markdown",
   "id": "fd4d37ec",
   "metadata": {},
   "source": [
    "Erläuterungen zum Hintergrund dieses Skriptes finden sich in der Ausarbeitung sowie in den Anmerkungen im Hauptskript in Anhang 3."
   ]
  },
  {
   "cell_type": "markdown",
   "id": "ee9d2a9b",
   "metadata": {},
   "source": [
    "### 1. Laden der nötigen Bibliotheken"
   ]
  },
  {
   "cell_type": "code",
   "execution_count": 1,
   "id": "1c3c360d",
   "metadata": {},
   "outputs": [],
   "source": [
    "import json"
   ]
  },
  {
   "cell_type": "markdown",
   "id": "cbbe237e",
   "metadata": {},
   "source": [
    "### 2. Öffnen der Datei \"hh_persons_fam_2.json\" mit zwei Verwandtschaftsbeziehungen pro Person"
   ]
  },
  {
   "cell_type": "code",
   "execution_count": 3,
   "id": "09e3ecea",
   "metadata": {},
   "outputs": [],
   "source": [
    "with open(\"hh_persons_fam_2.json\", \"r+\", encoding = \"utf-8\") as infile:\n",
    "    daten = json.load(infile)\n",
    "    hamburg = daten[\"Hamburg\"]"
   ]
  },
  {
   "cell_type": "markdown",
   "id": "8d7d655d",
   "metadata": {},
   "source": [
    "### 3. Filtern der Namen der Haupt- und relationierten Nodes"
   ]
  },
  {
   "cell_type": "code",
   "execution_count": 4,
   "id": "fbbbae71",
   "metadata": {},
   "outputs": [],
   "source": [
    "hamburg_edges = []\n",
    "\n",
    "for item in hamburg:\n",
    "    for key in item:\n",
    "        if key == \"name\":\n",
    "            for element in item[key]:\n",
    "                hamburg_edges.append(element)\n",
    "                \n",
    "        if key == \"relation_fam\":\n",
    "            for element in item[key]:\n",
    "                hamburg_edges.append(element)"
   ]
  },
  {
   "cell_type": "code",
   "execution_count": 5,
   "id": "53dcb320",
   "metadata": {},
   "outputs": [],
   "source": [
    "# hamburg_edges"
   ]
  },
  {
   "cell_type": "markdown",
   "id": "c09e743e",
   "metadata": {},
   "source": [
    "### 4. Doppelte Einträge löschen\n",
    "Um doppelte Einträge zu eleminieren, wird die Liste einmal in ein Dictionary verwandelt und wieder zurück in eine Liste."
   ]
  },
  {
   "cell_type": "code",
   "execution_count": 6,
   "id": "642b1f48",
   "metadata": {},
   "outputs": [],
   "source": [
    "hamburg_edges_new = list(dict.fromkeys(hamburg_edges))   "
   ]
  },
  {
   "cell_type": "code",
   "execution_count": 7,
   "id": "0fe4c6b5",
   "metadata": {},
   "outputs": [],
   "source": [
    "# hamburg_edges_new"
   ]
  },
  {
   "cell_type": "markdown",
   "id": "ebb15e26",
   "metadata": {},
   "source": [
    "### 5. Löschung aller doppelten Nachnamen\n",
    "Um tatsächlich nur ein Mitglied einer Familie als Endeintrag der Liste zu generieren, wird wiederum ein Dictionary aller Einträge erzeugt, wobei der Nachname der Key, der Vorname der Value ist, damit dann gleichnamige Keys elöscht werden."
   ]
  },
  {
   "cell_type": "code",
   "execution_count": 8,
   "id": "d53a6ee9",
   "metadata": {},
   "outputs": [],
   "source": [
    "entries = []\n",
    "    \n",
    "for item in hamburg_edges_new:    \n",
    "    dict_line = {}\n",
    "    key, *value = item.strip().split(\",\", 1)\n",
    "    dict_line[key] = value\n",
    "    \n",
    "    entries.append(dict_line)"
   ]
  },
  {
   "cell_type": "code",
   "execution_count": 9,
   "id": "a66cca5a",
   "metadata": {},
   "outputs": [],
   "source": [
    "# entries"
   ]
  },
  {
   "cell_type": "code",
   "execution_count": 10,
   "id": "d2d0e7ca",
   "metadata": {},
   "outputs": [],
   "source": [
    "for item in entries:\n",
    "    for key in item:\n",
    "        item[key] = str(item[key]).lstrip(\"[' \").rstrip(\"']\").lstrip()"
   ]
  },
  {
   "cell_type": "code",
   "execution_count": 11,
   "id": "1d4d721c",
   "metadata": {},
   "outputs": [],
   "source": [
    "# entries"
   ]
  },
  {
   "cell_type": "markdown",
   "id": "d69b7e55",
   "metadata": {},
   "source": [
    "Durch Bildung nur eines Dictionarys werden die doppelten Keys/Nachnamen überschrieben"
   ]
  },
  {
   "cell_type": "code",
   "execution_count": 12,
   "id": "ea5ccf03",
   "metadata": {},
   "outputs": [],
   "source": [
    "current_entry = {}\n",
    "    \n",
    "for item in entries:  \n",
    "    current_entry.update(item)  "
   ]
  },
  {
   "cell_type": "code",
   "execution_count": 13,
   "id": "71173d36",
   "metadata": {},
   "outputs": [],
   "source": [
    "# current_entry"
   ]
  },
  {
   "cell_type": "code",
   "execution_count": 14,
   "id": "33d31b70",
   "metadata": {},
   "outputs": [],
   "source": [
    "# sorted(current_entry)"
   ]
  },
  {
   "cell_type": "code",
   "execution_count": 15,
   "id": "309d47cc",
   "metadata": {},
   "outputs": [
    {
     "name": "stdout",
     "output_type": "stream",
     "text": [
      "106\n"
     ]
    }
   ],
   "source": [
    "print(len(current_entry))"
   ]
  },
  {
   "cell_type": "markdown",
   "id": "74608306",
   "metadata": {},
   "source": [
    "### 6. Endbearbeitung und Erstellung der Datei \"hamburg_edges.txt\""
   ]
  },
  {
   "cell_type": "code",
   "execution_count": 17,
   "id": "45454e1f",
   "metadata": {},
   "outputs": [],
   "source": [
    "with open(\"hamburg_edges.txt\", \"w\") as outfile:\n",
    "    for key, value in current_entry.items():\n",
    "        print(key.lstrip(\n",
    "            \"'\").rstrip(\n",
    "            \"'\") + \", \" + value.lstrip(\n",
    "            \"'\").rstrip(\n",
    "            \"'\"), file=outfile)"
   ]
  },
  {
   "cell_type": "code",
   "execution_count": null,
   "id": "274e1ed6",
   "metadata": {},
   "outputs": [],
   "source": []
  }
 ],
 "metadata": {
  "kernelspec": {
   "display_name": "Python 3 (ipykernel)",
   "language": "python",
   "name": "python3"
  },
  "language_info": {
   "codemirror_mode": {
    "name": "ipython",
    "version": 3
   },
   "file_extension": ".py",
   "mimetype": "text/x-python",
   "name": "python",
   "nbconvert_exporter": "python",
   "pygments_lexer": "ipython3",
   "version": "3.9.7"
  }
 },
 "nbformat": 4,
 "nbformat_minor": 5
}
